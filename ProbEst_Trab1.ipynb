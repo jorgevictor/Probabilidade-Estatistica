{
  "nbformat": 4,
  "nbformat_minor": 0,
  "metadata": {
    "colab": {
      "provenance": [],
      "authorship_tag": "ABX9TyM6+JHoGbaXJilvT/e6xcHb",
      "include_colab_link": true
    },
    "kernelspec": {
      "name": "python3",
      "display_name": "Python 3"
    },
    "language_info": {
      "name": "python"
    }
  },
  "cells": [
    {
      "cell_type": "markdown",
      "metadata": {
        "id": "view-in-github",
        "colab_type": "text"
      },
      "source": [
        "<a href=\"https://colab.research.google.com/github/jorgevictor/Probabilidade-Estatistica/blob/main/ProbEst_Trab1.ipynb\" target=\"_parent\"><img src=\"https://colab.research.google.com/assets/colab-badge.svg\" alt=\"Open In Colab\"/></a>"
      ]
    },
    {
      "cell_type": "markdown",
      "source": [
        "Questao 1: Num jogo de craps dois dados são lançados. Se o jogador tira 7 ou 11 na soma das faces voltadas\n",
        "para cima, ele ganha. Se ele tira 2, 3 ou 12 ele perde. Nos outros casos ele continua jogando os dois dados até\n",
        "sair 7, caso em que ele perde, ou então sair novamente o primeiro resultado, caso em que ele ganha.\n",
        "1. Escreva um programa de computador que simule um resultado de um jogo de Craps. O programa deve\n",
        "retornar uma lista com um dos elementos sendo o vetor com os valores das somas dos dados obtidos em\n",
        "sequência até terminar o jogo e o outro elemento sendo identificando se o resultado foi uma vitória ou uma\n",
        "derrota (pode ser um inteiro 0 ou 1, ou então uma string, como preferir).\n",
        "2. Rode o programa anterior 5 vezes e reporte os diferentes resultados obtidos (vetores com valores das faces\n",
        "e a conclusão - vitória ou derrota).\n",
        "3. Utilize o programa criado por você para estimar a probabilidade de vitória no jogo de Craps. Para isso\n",
        "você deve rodar o programa muitas vezes (quanto mais vezes melhor) e calcular a proporção de partidas\n",
        "que resultou em vitória.\n",
        "4. Qual é a chance de que o jogo nunca termine? Justifique.\n",
        "5. Se você paga 1 real quando perde o jogo e recebe 1 real como prêmio quando ganha, qual foi o saldo final\n",
        "em reais ao final de todos os jogos simulados por você? O que se pode conjecturar sobre o resultado final\n",
        "de muitas apostas sucessivas num jogo de Craps quanto ao retorno financeiro?"
      ],
      "metadata": {
        "id": "MyZETq5rI2cl"
      }
    },
    {
      "cell_type": "code",
      "source": [
        "import random\n",
        "\n",
        "soma = 0\n",
        "jogando = True\n",
        "resultados = []\n",
        "vitoria_derrota = []\n",
        "\n",
        "while jogando:\n",
        "    dado1 = random.randint(1, 6)\n",
        "    dado2 = random.randint(1, 6)\n",
        "    soma_atual = dado1 + dado2\n",
        "    \n",
        "    resultados.append(soma_atual)\n",
        "    \n",
        "    if soma == 0: # primeiro lance\n",
        "        if soma_atual in [7, 11]:\n",
        "            jogando = False\n",
        "            vitoria_derrota.append(\"Vitória\")\n",
        "        elif soma_atual in [2, 3, 12]:\n",
        "            jogando = False\n",
        "            vitoria_derrota.append(\"Derrota\")\n",
        "        else:\n",
        "            soma = soma_atual\n",
        "            vitoria_derrota.append(\"Jogando\")\n",
        "    else: # já houve um lance anterior\n",
        "        if soma_atual == 7:\n",
        "            jogando = False\n",
        "            vitoria_derrota.append(\"Derrota\")\n",
        "        elif soma_atual == soma:\n",
        "            jogando = False\n",
        "            vitoria_derrota.append(\"Vitória\")\n",
        "        else:\n",
        "            vitoria_derrota.append(\"Jogando\")\n",
        "\n",
        "print(\"Resultados dos lances: \", resultados)\n",
        "for i in range(len(vitoria_derrota)):\n",
        "    print(\"Rodada {}: {}\".format(i+1, vitoria_derrota[i]))\n"
      ],
      "metadata": {
        "colab": {
          "base_uri": "https://localhost:8080/"
        },
        "id": "HMcs68QVLpdh",
        "outputId": "a4e2060f-a498-40c2-bbdc-663cc489da05"
      },
      "execution_count": null,
      "outputs": [
        {
          "output_type": "stream",
          "name": "stdout",
          "text": [
            "Resultados dos lances:  [5, 7]\n",
            "Rodada 1: Jogando\n",
            "Rodada 2: Derrota\n"
          ]
        }
      ]
    },
    {
      "cell_type": "code",
      "source": [
        "import random\n",
        "\n",
        "n = 500000 # número de partidas a serem jogadas\n",
        "vitorias = 0 # contador de vitórias\n",
        "\n",
        "for i in range(n):\n",
        "    soma = 0\n",
        "    jogando = True\n",
        "    resultados = []\n",
        "    vitoria_derrota = []\n",
        "\n",
        "    while jogando:\n",
        "        dado1 = random.randint(1, 6)\n",
        "        dado2 = random.randint(1, 6)\n",
        "        soma_atual = dado1 + dado2\n",
        "\n",
        "        resultados.append(soma_atual)\n",
        "\n",
        "        if soma == 0: # primeiro lance\n",
        "            if soma_atual in [7, 11]:\n",
        "                jogando = False\n",
        "                vitoria_derrota.append(\"Vitória\")\n",
        "            elif soma_atual in [2, 3, 12]:\n",
        "                jogando = False\n",
        "                vitoria_derrota.append(\"Derrota\")\n",
        "            else:\n",
        "                soma = soma_atual\n",
        "        else: # já houve um lance anterior\n",
        "            if soma_atual == 7:\n",
        "                jogando = False\n",
        "                vitoria_derrota.append(\"Derrota\")\n",
        "            elif soma_atual == soma:\n",
        "                jogando = False\n",
        "                vitoria_derrota.append(\"Vitória\")\n",
        "\n",
        "    if \"Vitória\" in vitoria_derrota:\n",
        "        vitorias += 1\n",
        "\n",
        "print(\"Estimativa de vitórias em {} partidas: {} ({:.2f}%)\".format(n, vitorias, vitorias/n * 100))\n"
      ],
      "metadata": {
        "colab": {
          "base_uri": "https://localhost:8080/"
        },
        "id": "MaWlQQLkN-aN",
        "outputId": "8181343d-16ed-4390-c5c6-08b97dd9892e"
      },
      "execution_count": null,
      "outputs": [
        {
          "output_type": "stream",
          "name": "stdout",
          "text": [
            "Estimativa de vitórias em 500000 partidas: 246241 (49.25%)\n"
          ]
        }
      ]
    },
    {
      "cell_type": "markdown",
      "source": [
        "1.2)\n",
        "Resultados dos lances:  [9, 8, 9]\n",
        "Rodada 1: Jogando\n",
        "Rodada 2: Jogando\n",
        "Rodada 3: Vitória\n",
        "\n",
        "Resultados dos lances:  [9, 7]\n",
        "Rodada 1: Jogando\n",
        "Rodada 2: Derrota\n",
        "\n",
        "Resultados dos lances:  [6, 10, 2, 5, 7]\n",
        "Rodada 1: Jogando\n",
        "Rodada 2: Jogando\n",
        "Rodada 3: Jogando\n",
        "Rodada 4: Jogando\n",
        "Rodada 5: Derrota\n",
        "\n",
        "Resultados dos lances:  [8, 10, 11, 7]\n",
        "Rodada 1: Jogando\n",
        "Rodada 2: Jogando\n",
        "Rodada 3: Jogando\n",
        "Rodada 4: Derrota\n",
        "\n",
        "Resultados dos lances:  [5, 7]\n",
        "Rodada 1: Jogando\n",
        "Rodada 2: Derrota\n",
        "\n",
        "1.3) Estimativa de vitórias em 500000 partidas: 246241 (49.25%)\n",
        "\n",
        "Ao rodar esse programa muitas vezes, é possível perceber que a estimativa sempre tende a 49.3%.\n",
        "\n",
        "1.4) A probabilidade de que um jogo de craps nunca termine é extremamente baixa, na verdade, é praticamente impossível. A probabilidade de um jogo de craps terminar é sempre de 100%, pois as regras do jogo são projetadas para que o jogo tenha um fim.\n",
        "\n",
        "O resultado de cada lançamento de dados em um jogo de craps é determinado pela probabilidade. Existem várias combinações possíveis de resultados, cada uma com sua própria probabilidade. Por exemplo, a probabilidade de se obter um total de 7 em dois dados é de 1/6, enquanto a probabilidade de se obter um total de 2 ou 12 é de apenas 1/36.\n",
        "\n",
        "Independentemente do resultado de cada lançamento, o jogo continuará a progredir de acordo com as regras estabelecidas até que ocorra uma das seguintes situações: o jogador ganha e recolhe seus ganhos, o jogador perde e sai do jogo, ou o cassino decide encerrar o jogo.\n",
        "\n",
        "Em resumo, a probabilidade de que um jogo de craps nunca termine é zero, pois as regras do jogo e as probabilidades envolvidas garantem que o jogo sempre chegará a uma conclusão.\n",
        "\n",
        "1.5) Ao jogar mais e mais vezes, o saldo tende a ficar negativo por conta da probabilidade de vitória ser menor que 50%. Então, o que se pode conjecturar sobre o resultado final de muitas apostas sucessivas num jogo de Craps quanto ao retorno financeiro é que o retorno financeiro é negativo."
      ],
      "metadata": {
        "id": "cSuxidVgM8mk"
      }
    },
    {
      "cell_type": "markdown",
      "source": [
        "Questão 2: Em aula, calculamos a probabilidade de acertar exatamente 5 números na mega sena (acertar na\n",
        "quina) tendo escolhido um bilhete de 6 números. Lembre-se que na Mega Sena são sorteados 6 números de 1 a\n",
        "60 aleatoriamente sem repetições.\n",
        "1. Escolha um bilhete de 6 números. Escreva um programa que simule um sorteio da Mega Sena e diga se\n",
        "você acertou ou não na quina.\n",
        "2. Utilize o programa criado por você para estimar a probabilidade de acertar na quina e compare com o\n",
        "valor obtido em sala de aula.\n",
        "3. Modifique o programa para verificar se você acertou exatamente 4 números ou não.\n",
        "4. Utilize o programa criado no item anterior para estimar a probabilidade de acertar exatamente 4 números\n",
        "da Mega Sena tendo escolhido um bilhete de 6 números."
      ],
      "metadata": {
        "id": "A-nTBabvJA39"
      }
    },
    {
      "cell_type": "code",
      "execution_count": null,
      "metadata": {
        "colab": {
          "base_uri": "https://localhost:8080/"
        },
        "id": "DMTL_PBsbUx5",
        "outputId": "49d4232a-80b6-49bb-b492-79cd495b9687"
      },
      "outputs": [
        {
          "output_type": "stream",
          "name": "stdout",
          "text": [
            "Seus números: [1, 7, 13, 22, 36, 45]\n",
            "Números sorteados: [20, 24, 36, 42, 48, 55]\n",
            "Infelizmente você não ganhou desta vez.\n"
          ]
        }
      ],
      "source": [
        "import random\n",
        "\n",
        "# Definindo os números do bilhete\n",
        "meu_bilhete = [1, 7, 13, 22, 36, 45]\n",
        "\n",
        "# Gerando os números sorteados\n",
        "numeros_sorteados = []\n",
        "while len(numeros_sorteados) < 6:\n",
        "    numero = random.randint(1, 60)\n",
        "    if numero not in numeros_sorteados:\n",
        "        numeros_sorteados.append(numero)\n",
        "\n",
        "# Ordenando os números sorteados\n",
        "numeros_sorteados.sort()\n",
        "\n",
        "# Imprimindo o resultado\n",
        "print(\"Seus números:\", meu_bilhete)\n",
        "print(\"Números sorteados:\", numeros_sorteados)\n",
        "\n",
        "# Verificando se acertou a quina\n",
        "numeros_certos = 0\n",
        "for numero in meu_bilhete:\n",
        "    if numero in numeros_sorteados:\n",
        "        numeros_certos += 1\n",
        "\n",
        "if numeros_certos == 5:\n",
        "    print(\"Parabéns, você acertou a quina!\")\n",
        "else:\n",
        "    print(\"Infelizmente você não ganhou desta vez.\")\n"
      ]
    },
    {
      "cell_type": "code",
      "source": [
        "import random\n",
        "\n",
        "n = 500000  # número de jogos a serem simulados\n",
        "meu_bilhete = [1, 7, 13, 22, 36, 45]  # números escolhidos pelo jogador\n",
        "\n",
        "num_quinas = 0  # contador de acertos da quina\n",
        "\n",
        "for i in range(n):\n",
        "    numeros_sorteados = []\n",
        "    while len(numeros_sorteados) < 6:\n",
        "        numero = random.randint(1, 60)\n",
        "        if numero not in numeros_sorteados:\n",
        "            numeros_sorteados.append(numero)\n",
        "    numeros_sorteados.sort()\n",
        "\n",
        "    numeros_certos = 0\n",
        "    for numero in meu_bilhete:\n",
        "        if numero in numeros_sorteados:\n",
        "            numeros_certos += 1\n",
        "\n",
        "    if numeros_certos == 5:\n",
        "        num_quinas += 1\n",
        "\n",
        "print(\"Probabilidade de acertar a quina em um jogo:\", num_quinas/n)"
      ],
      "metadata": {
        "colab": {
          "base_uri": "https://localhost:8080/"
        },
        "id": "EtYyRB53Xluj",
        "outputId": "51d09d64-a90b-479b-b039-bec70e8235df"
      },
      "execution_count": null,
      "outputs": [
        {
          "output_type": "stream",
          "name": "stdout",
          "text": [
            "Probabilidade de acertar a quina em um jogo: 4e-06\n"
          ]
        }
      ]
    },
    {
      "cell_type": "code",
      "source": [
        "import random\n",
        "\n",
        "# Definindo os números do bilhete\n",
        "meu_bilhete = [1, 7, 13, 22, 36, 45]\n",
        "\n",
        "# Gerando os números sorteados\n",
        "numeros_sorteados = []\n",
        "while len(numeros_sorteados) < 6:\n",
        "    numero = random.randint(1, 60)\n",
        "    if numero not in numeros_sorteados:\n",
        "        numeros_sorteados.append(numero)\n",
        "\n",
        "# Ordenando os números sorteados\n",
        "numeros_sorteados.sort()\n",
        "\n",
        "# Imprimindo o resultado\n",
        "print(\"Seus números:\", meu_bilhete)\n",
        "print(\"Números sorteados:\", numeros_sorteados)\n",
        "\n",
        "# Verificando se acertou a quina\n",
        "numeros_certos = 0\n",
        "for numero in meu_bilhete:\n",
        "    if numero in numeros_sorteados:\n",
        "        numeros_certos += 1\n",
        "\n",
        "if numeros_certos == 4:\n",
        "    print(\"Parabéns, você acertou exatamente 4 números!\")\n",
        "else:\n",
        "    print(\"Infelizmente você não ganhou desta vez.\")"
      ],
      "metadata": {
        "colab": {
          "base_uri": "https://localhost:8080/"
        },
        "id": "RHnJg_6ZYiRn",
        "outputId": "98b052e7-9bec-4ad9-87b6-0531774544b1"
      },
      "execution_count": null,
      "outputs": [
        {
          "output_type": "stream",
          "name": "stdout",
          "text": [
            "Seus números: [1, 7, 13, 22, 36, 45]\n",
            "Números sorteados: [8, 12, 47, 49, 54, 56]\n",
            "Infelizmente você não ganhou desta vez.\n"
          ]
        }
      ]
    },
    {
      "cell_type": "code",
      "source": [
        "import random\n",
        "\n",
        "n = 500000  # número de jogos a serem simulados\n",
        "meu_bilhete = [1, 7, 13, 22, 36, 45]  # números escolhidos pelo jogador\n",
        "\n",
        "num_quadras = 0  # contador de acertos da quina\n",
        "\n",
        "for i in range(n):\n",
        "    numeros_sorteados = []\n",
        "    while len(numeros_sorteados) < 6:\n",
        "        numero = random.randint(1, 60)\n",
        "        if numero not in numeros_sorteados:\n",
        "            numeros_sorteados.append(numero)\n",
        "    numeros_sorteados.sort()\n",
        "\n",
        "    numeros_certos = 0\n",
        "    for numero in meu_bilhete:\n",
        "        if numero in numeros_sorteados:\n",
        "            numeros_certos += 1\n",
        "\n",
        "    if numeros_certos == 4:\n",
        "        num_quadras += 1\n",
        "\n",
        "print(\"Probabilidade de acertar a quadra em um jogo:\", num_quadras/n)"
      ],
      "metadata": {
        "colab": {
          "base_uri": "https://localhost:8080/"
        },
        "id": "piqInmsoYr_a",
        "outputId": "091a73c7-8bef-42d1-a622-eb936fba2015"
      },
      "execution_count": null,
      "outputs": [
        {
          "output_type": "stream",
          "name": "stdout",
          "text": [
            "Probabilidade de acertar a quadra em um jogo: 0.000422\n"
          ]
        }
      ]
    },
    {
      "cell_type": "markdown",
      "source": [
        "Questão 3: Considere uma disputa em que o jogador A jogue com a pontos e o jogador B com b pontos. Uma partida deste jogo consiste em \n",
        "\n",
        "1) o jogador A lança 2 dados e soma o valor das duas faces com a, \n",
        "\n",
        "2) o jogador B lança 2 dados e soma aos seus pontos b \n",
        "\n",
        "3) o jogador que obtiver o maior resultado final vence a rodada,\n",
        "\n",
        "4) o vencedor do jogo é aquele que for o primeiro a vencer 10 rodadas. \n",
        "\n",
        "Com o auxílio de um programa de computador, estime a probabilidade de que o jogador A vença quando\n",
        "1. a = 7 e b = 8.\n",
        "2. a = 8 e b = 10.\n",
        "3. a = 6 e b = 10.\n",
        "4. a = 8 e b = 11."
      ],
      "metadata": {
        "id": "EnoD5JVnJGlr"
      }
    },
    {
      "cell_type": "code",
      "source": [
        "import random\n",
        "\n",
        "def lancar_dados():\n",
        "    return random.randint(1, 6) + random.randint(1, 6)\n",
        "\n",
        "def jogar_partida(pontos_a, pontos_b):\n",
        "\n",
        "    vitorias_a = 0\n",
        "    vitorias_b = 0\n",
        "    while vitorias_a < 10 and vitorias_b < 10:\n",
        "        resultado_a = lancar_dados() + pontos_a\n",
        "        resultado_b = lancar_dados() + pontos_b\n",
        "        if resultado_a > resultado_b:\n",
        "            vitorias_a += 1\n",
        "        elif resultado_b > resultado_a:\n",
        "            vitorias_b += 1\n",
        "    if vitorias_a == 10:\n",
        "        return True\n",
        "    elif vitorias_b == 10:\n",
        "        return False\n",
        "\n",
        "def estimar_probabilidade(num_partidas):\n",
        "    vitorias_a = 0\n",
        "    for i in range(num_partidas):\n",
        "        if jogar_partida(7, 8):\n",
        "            vitorias_a += 1\n",
        "    return vitorias_a / num_partidas\n",
        "\n",
        "print(estimar_probabilidade(10000))\n"
      ],
      "metadata": {
        "colab": {
          "base_uri": "https://localhost:8080/"
        },
        "id": "0ybZwZlzHmfk",
        "outputId": "156dc435-8b53-455d-aa5f-c4cca9c062e2"
      },
      "execution_count": 10,
      "outputs": [
        {
          "output_type": "stream",
          "name": "stdout",
          "text": [
            "0.1363\n"
          ]
        }
      ]
    },
    {
      "cell_type": "code",
      "source": [
        "import random\n",
        "\n",
        "def lancar_dados():\n",
        "    return random.randint(1, 6) + random.randint(1, 6)\n",
        "\n",
        "def jogar_partida(pontos_a, pontos_b):\n",
        "\n",
        "    vitorias_a = 0\n",
        "    vitorias_b = 0\n",
        "    while vitorias_a < 10 and vitorias_b < 10:\n",
        "        resultado_a = lancar_dados() + pontos_a\n",
        "        resultado_b = lancar_dados() + pontos_b\n",
        "        if resultado_a > resultado_b:\n",
        "            vitorias_a += 1\n",
        "        elif resultado_b > resultado_a:\n",
        "            vitorias_b += 1\n",
        "    if vitorias_a == 10:\n",
        "        return True\n",
        "    elif vitorias_b == 10:\n",
        "        return False\n",
        "\n",
        "def estimar_probabilidade(num_partidas):\n",
        "    vitorias_a = 0\n",
        "    for i in range(num_partidas):\n",
        "        if jogar_partida(8, 10):\n",
        "            vitorias_a += 1\n",
        "    return vitorias_a / num_partidas\n",
        "\n",
        "print(estimar_probabilidade(10000))"
      ],
      "metadata": {
        "colab": {
          "base_uri": "https://localhost:8080/"
        },
        "id": "wpYopNs9IGxx",
        "outputId": "12724860-dea8-4dbe-f31f-d8d8c2e88041"
      },
      "execution_count": 14,
      "outputs": [
        {
          "output_type": "stream",
          "name": "stdout",
          "text": [
            "0.0126\n"
          ]
        }
      ]
    },
    {
      "cell_type": "code",
      "source": [
        "import random\n",
        "\n",
        "def lancar_dados():\n",
        "    return random.randint(1, 6) + random.randint(1, 6)\n",
        "\n",
        "def jogar_partida(pontos_a, pontos_b):\n",
        "\n",
        "    vitorias_a = 0\n",
        "    vitorias_b = 0\n",
        "    while vitorias_a < 10 and vitorias_b < 10:\n",
        "        resultado_a = lancar_dados() + pontos_a\n",
        "        resultado_b = lancar_dados() + pontos_b\n",
        "        if resultado_a > resultado_b:\n",
        "            vitorias_a += 1\n",
        "        elif resultado_b > resultado_a:\n",
        "            vitorias_b += 1\n",
        "    if vitorias_a == 10:\n",
        "        return True\n",
        "    elif vitorias_b == 10:\n",
        "        return False\n",
        "\n",
        "def estimar_probabilidade(num_partidas):\n",
        "    vitorias_a = 0\n",
        "    for i in range(num_partidas):\n",
        "        if jogar_partida(6, 10):\n",
        "            vitorias_a += 1\n",
        "    return vitorias_a / num_partidas\n",
        "\n",
        "print(estimar_probabilidade(10000))"
      ],
      "metadata": {
        "colab": {
          "base_uri": "https://localhost:8080/"
        },
        "id": "sSnhCpPtITX8",
        "outputId": "4d302874-de29-4be4-9c75-41819893a3df"
      },
      "execution_count": 16,
      "outputs": [
        {
          "output_type": "stream",
          "name": "stdout",
          "text": [
            "0.0\n"
          ]
        }
      ]
    },
    {
      "cell_type": "code",
      "source": [
        "import random\n",
        "\n",
        "def lancar_dados():\n",
        "    return random.randint(1, 6) + random.randint(1, 6)\n",
        "\n",
        "def jogar_partida(pontos_a, pontos_b):\n",
        "\n",
        "    vitorias_a = 0\n",
        "    vitorias_b = 0\n",
        "    while vitorias_a < 10 and vitorias_b < 10:\n",
        "        resultado_a = lancar_dados() + pontos_a\n",
        "        resultado_b = lancar_dados() + pontos_b\n",
        "        if resultado_a > resultado_b:\n",
        "            vitorias_a += 1\n",
        "        elif resultado_b > resultado_a:\n",
        "            vitorias_b += 1\n",
        "    if vitorias_a == 10:\n",
        "        return True\n",
        "    elif vitorias_b == 10:\n",
        "        return False\n",
        "\n",
        "def estimar_probabilidade(num_partidas):\n",
        "    vitorias_a = 0\n",
        "    for i in range(num_partidas):\n",
        "        if jogar_partida(8, 11):\n",
        "            vitorias_a += 1\n",
        "    return vitorias_a / num_partidas\n",
        "\n",
        "print(estimar_probabilidade(10000))"
      ],
      "metadata": {
        "colab": {
          "base_uri": "https://localhost:8080/"
        },
        "id": "Obbhfu_QIYv-",
        "outputId": "014b76bd-0a1f-4e77-b5c7-34cabec69052"
      },
      "execution_count": 18,
      "outputs": [
        {
          "output_type": "stream",
          "name": "stdout",
          "text": [
            "0.0003\n"
          ]
        }
      ]
    }
  ]
}
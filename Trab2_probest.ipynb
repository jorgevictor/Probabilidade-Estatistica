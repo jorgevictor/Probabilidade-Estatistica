{
  "nbformat": 4,
  "nbformat_minor": 0,
  "metadata": {
    "colab": {
      "provenance": [],
      "include_colab_link": true
    },
    "kernelspec": {
      "name": "python3",
      "display_name": "Python 3"
    },
    "language_info": {
      "name": "python"
    }
  },
  "cells": [
    {
      "cell_type": "markdown",
      "metadata": {
        "id": "view-in-github",
        "colab_type": "text"
      },
      "source": [
        "<a href=\"https://colab.research.google.com/github/jorgevictor/Probabilidade-Estatistica/blob/main/Trab2_probest.ipynb\" target=\"_parent\"><img src=\"https://colab.research.google.com/assets/colab-badge.svg\" alt=\"Open In Colab\"/></a>"
      ]
    },
    {
      "cell_type": "code",
      "source": [
        "'''\n",
        "LISTA II - ESTATÍSTICA E PROBABILIDADE\n",
        "Nome: Jorge Victor Simão de Souza\n",
        "  DRE: 120130622\n",
        "Nome: Wemerson Silva Caxias da Costa\n",
        "  DRE: 120063485\n",
        "Nome: Yuri Elias da Silva Laranja\n",
        "  DRE: 120163120\n",
        "'''"
      ],
      "metadata": {
        "id": "7CaOKcDiWS-i",
        "colab": {
          "base_uri": "https://localhost:8080/",
          "height": 35
        },
        "outputId": "bda90fb8-4ef3-4fb5-ce42-5c31aa1afac7"
      },
      "execution_count": null,
      "outputs": [
        {
          "output_type": "execute_result",
          "data": {
            "text/plain": [
              "'\\nLISTA II - ESTATÍSTICA E PROBABILIDADE\\nNome: Jorge Victor Simão de Souza\\n  DRE: 120130622\\nNome: Wemerson Silva Caxias da Costa\\n  DRE: 120063485\\nNome: Yuri Elias da Silva Laranja\\n  DRE: 120163120\\n'"
            ],
            "application/vnd.google.colaboratory.intrinsic+json": {
              "type": "string"
            }
          },
          "metadata": {},
          "execution_count": 41
        }
      ]
    },
    {
      "cell_type": "code",
      "source": [
        "import numpy as np\n",
        "from scipy.stats import norm"
      ],
      "metadata": {
        "id": "bCRcsbXssDZO"
      },
      "execution_count": null,
      "outputs": []
    },
    {
      "cell_type": "markdown",
      "source": [
        "# Questão 1"
      ],
      "metadata": {
        "id": "PUgbu3OnV7jG"
      }
    },
    {
      "cell_type": "markdown",
      "source": [
        "## (a)\n",
        "A probabilidade acumulada de 0,5 é alcançada quando aplicamos a função inversa $F^{-1}_X(0,5)$ à variável aleatória X. \\\\\n",
        "O resultado dessa operação, corresponde ao valor do quantil q que satisfaz a probabilidade $F_X(q) = P(X < q) = 0,5$. \\\\\n",
        "Em outras palavras, o valor q divide a distribuição em duas partes iguais, onde metade dos valores estão a esquerda de q e a outra metade está a sua direita. \\\\\n",
        "Temos portanto que a probabilidade que queremos é $0.5$."
      ],
      "metadata": {
        "id": "xJ6StuqQWrJq"
      }
    },
    {
      "cell_type": "markdown",
      "source": [
        "## (b)\n",
        "Se o valor da $F_x(p) = x$, a inversa é da forma $F^{-1}_x(x) = p$, nesse caso para $p \\in (0,1)$. \\\\\n",
        "O valor representa o quantil no qual temos uma probabilidade acumulada $x$ à esquerda de p na distribuição de probabilidade de X."
      ],
      "metadata": {
        "id": "CHbe5KuJWsOr"
      }
    },
    {
      "cell_type": "markdown",
      "source": [
        "## (c)\n",
        "Quando temos uma variável aleatória U com distribuição uniforme, os valores assumidos por U estarão em função dos $[a,b]$. Portanto, ao aplicarmos a função inversa $F^{-1}_X(U)$, obtemos um quantil q que acumula a probabilidade $u$ à esquerda na distribuição de X. \\\\\n",
        "Após isso, quando aplicamos posteriormente a função de distribuição acumulada de X, teremos que $F_X(q)$ = u.\n",
        "\n",
        "A igualdade marcada por * indica a aplicação da f.d.a em ambos os lados da desigualdade, e o valor resultante à esquerda será o valor assumido por $u$. \\\\\n",
        "A garantia de que a igualdade é mantida é devido ao fato de que a função de distribuição acumulada de qualquer distribuição é sempre crescente ou constante, em todos os pontos da reta."
      ],
      "metadata": {
        "id": "iUDK0gPyWtrZ"
      }
    },
    {
      "cell_type": "markdown",
      "source": [
        "## (d)"
      ],
      "metadata": {
        "id": "aYWlWdKgWun0"
      }
    },
    {
      "cell_type": "code",
      "source": [
        "import numpy as np\n",
        "import math\n",
        "from scipy.stats import norm\n",
        "\n",
        "# Gerar amostra da distribuição uniforme\n",
        "U = np.random.uniform(0, 1, size=1000)\n",
        "\n",
        "# Calcular a amostra simulada de X usando a função de distribuição inversa\n",
        "X = norm.ppf(U, loc=2, scale=math.sqrt(3))\n"
      ],
      "metadata": {
        "id": "av2OTOplhQqY"
      },
      "execution_count": null,
      "outputs": []
    },
    {
      "cell_type": "markdown",
      "source": [
        "# (e)"
      ],
      "metadata": {
        "id": "-eBe-4u6WvfB"
      }
    },
    {
      "cell_type": "code",
      "source": [
        "import matplotlib.pyplot as plt\n",
        "from scipy.stats import norm\n",
        "\n",
        "# Plotar histograma da amostra simulada\n",
        "plt.hist(X, bins=1000, density=True, alpha=0.7)\n",
        "plt.title('Histograma da Amostra de X')\n",
        "plt.show()\n"
      ],
      "metadata": {
        "colab": {
          "base_uri": "https://localhost:8080/",
          "height": 452
        },
        "id": "T0U8PPMehh8Q",
        "outputId": "2e9e1bff-44cb-4ae7-a278-6bd753d4882e"
      },
      "execution_count": null,
      "outputs": [
        {
          "output_type": "display_data",
          "data": {
            "text/plain": [
              "<Figure size 640x480 with 1 Axes>"
            ],
            "image/png": "[encoded data removed]"
          },
          "metadata": {}
        }
      ]
    },
    {
      "cell_type": "code",
      "source": [
        "# Plotar histograma da amostra simulada\n",
        "amostra = np.random.normal(2, np.sqrt(3), 1000)\n",
        "plt.hist(amostra, bins=1000, density=True, alpha=0.7)\n",
        "plt.title('Histograma da Amostra de rnorm(1000, 2, sqrt(3)).') # o equivalente em python de rnorm(1000,2,sqrt(3)), no caso\n",
        "plt.show()\n"
      ],
      "metadata": {
        "colab": {
          "base_uri": "https://localhost:8080/",
          "height": 452
        },
        "id": "8kwIFtAIlH-4",
        "outputId": "62d629a0-ff0e-4eef-be75-f5ba9479502d"
      },
      "execution_count": null,
      "outputs": [
        {
          "output_type": "display_data",
          "data": {
            "text/plain": [
              "<Figure size 640x480 with 1 Axes>"
            ],
            "image/png": "[encoded data removed]"
          },
          "metadata": {}
        }
      ]
    },
    {
      "cell_type": "markdown",
      "source": [
        "Conseguimos perceber que os dois histogramas são muito semelhantes, o que indica que a distribuição das variáveis aleatórias que nossas amostras geraram são semelhantes em termos de formato, dispersão, etc. Isso sugere que as variáveis aleatórias podem ser modeladas de forma compatível, que é exatamente a conclusão que queriamos chegar no começo da questão: que conseguimos gerar amostras de de uma variável aleatória contínua qualquer a partir de amostras da $Unif(0, 1)$ usando de transformações das funções inversas.\n"
      ],
      "metadata": {
        "id": "5uhGz1Asj66S"
      }
    },
    {
      "cell_type": "markdown",
      "source": [
        "# Questão 2"
      ],
      "metadata": {
        "id": "PoMW80JzV6lC"
      }
    },
    {
      "cell_type": "markdown",
      "source": [
        "## (a)"
      ],
      "metadata": {
        "id": "CPcLo7enXXYJ"
      }
    },
    {
      "cell_type": "code",
      "source": [
        "import numpy as np\n",
        "from scipy.stats import t\n",
        "\n",
        "def calcular_intervalo_confianca_t(valores, nivel_confianca):\n",
        "    # Calcula a média e o desvio padrão dos valores\n",
        "    media = np.mean(valores)\n",
        "    desvio_padrao = np.std(valores, ddof=1)  # Usamos ddof=1 para considerar a amostra\n",
        "\n",
        "    # Calcula o tamanho do intervalo de confiança com base no nível de confiança e no tamanho da amostra\n",
        "    n = len(valores)\n",
        "    graus_liberdade = n - 1\n",
        "    t_valor = t.ppf(1 - (1 - nivel_confianca) / 2, graus_liberdade)\n",
        "    erro_padrao = t_valor * desvio_padrao / np.sqrt(n)\n",
        "\n",
        "    # Calcula os limites inferior e superior do intervalo de confiança\n",
        "    limite_inferior = media - erro_padrao\n",
        "    limite_superior = media + erro_padrao\n",
        "    # Cria o vetor de retorno\n",
        "    limites = [limite_inferior,limite_superior]\n",
        "\n",
        "    return limites\n"
      ],
      "metadata": {
        "id": "dGPT7XQAJqw6"
      },
      "execution_count": null,
      "outputs": []
    },
    {
      "cell_type": "markdown",
      "source": [
        "## (b)"
      ],
      "metadata": {
        "id": "Ke8rfiRDYR87"
      }
    },
    {
      "cell_type": "code",
      "source": [
        "verdadeiro_media = 3 #pedido na questão\n",
        "amostra = np.random.normal(3, 4, 30) #Função de random no numpy\n",
        "nivel_confianca = 0.95    # Nível de confiança pedido na questão\n",
        "limites = calcular_intervalo_confianca_t(amostra, nivel_confianca) #chamando função\n",
        "\n",
        "interval_median= limites[0] <= verdadeiro_media <= limites[1] #Retorna true se intervalo está entre os limites\n",
        "\n",
        "print(\"Intervalo de Confiança: [{:.5f}, {:.5f}]\".format(limites[0], limites[1]))\n",
        "print(\"O intervalo contém o valor da média verdadeira:\", interval_median)\n"
      ],
      "metadata": {
        "colab": {
          "base_uri": "https://localhost:8080/"
        },
        "id": "mE-40rkZrXIN",
        "outputId": "6990d5f9-879c-4919-e8e7-4553e34cdc0b"
      },
      "execution_count": null,
      "outputs": [
        {
          "output_type": "stream",
          "name": "stdout",
          "text": [
            "Intervalo de Confiança: [2.49390, 5.46918]\n",
            "O intervalo contém o valor da média verdadeira: True\n"
          ]
        }
      ]
    },
    {
      "cell_type": "markdown",
      "source": [
        "## (c)"
      ],
      "metadata": {
        "id": "Y3yvUxtAZWNE"
      }
    },
    {
      "cell_type": "code",
      "source": [
        "\n",
        "# Parâmetros\n",
        "n_simulacoes = 1000\n",
        "nivel_confianca = 0.95 # Nível de confiança pedido na questão\n",
        "# Contador para o número de intervalos que contêm o verdadeiro valor de μ\n",
        "contador_sucessos = 0\n",
        "# Realizar as simulações\n",
        "for _ in range(n_simulacoes):\n",
        "    # Simular amostra de tamanho 30 de X ~ N(3, 4)\n",
        "    amostra = np.random.normal(3, 4, 30)\n",
        "    # Calcular o intervalo de confiança de 95% para μ\n",
        "    limites = calcular_intervalo_confianca_t(amostra, nivel_confianca)\n",
        "\n",
        "    # Verificar se o intervalo contém o verdadeiro valor de μ\n",
        "    if limites[0] <= verdadeiro_media <= limites[1]:\n",
        "        contador_sucessos += 1\n",
        "\n",
        "# Calcular a proporção de intervalos que contêm o verdadeiro valor de μ\n",
        "proporcao_true = contador_sucessos / n_simulacoes\n",
        "\n",
        "# Imprimir resultado\n",
        "print(\"Número de vezes em que o intervalo de confiança conteve o verdadeiro valor da média:\", contador_sucessos)\n",
        "print(\"Proporção de intervalos que contêm o verdadeiro valor de μ: {:.2f}\".format(proporcao_true))\n"
      ],
      "metadata": {
        "colab": {
          "base_uri": "https://localhost:8080/"
        },
        "id": "I352ga0BwWuQ",
        "outputId": "68d42495-743b-454c-c010-9ac5600b28dd"
      },
      "execution_count": null,
      "outputs": [
        {
          "output_type": "stream",
          "name": "stdout",
          "text": [
            "Número de vezes em que o intervalo de confiança conteve o verdadeiro valor da média: 951\n",
            "Proporção de intervalos que contêm o verdadeiro valor de μ: 0.95\n"
          ]
        }
      ]
    },
    {
      "cell_type": "markdown",
      "source": [
        "No final das simulações, calculamos a proporção de intervalos que contêm o verdadeiro valor de μ dividindo o contador pelo número total de simulações. Esse valor nos dará uma ideia de quão bem o nível de confiança está sendo atendido.\n",
        "\n",
        "O resultado obtido relaciona-se com o conceito de nível de confiança da seguinte maneira: se o nível de confiança é definido como 0.95, esperamos que, em média, aproximadamente 95% dos intervalos de confiança calculados a partir das amostras contenham o verdadeiro valor de μ, quanto maior for nosso teste mais se aproximará dos 95% de confiança. \\\\\n",
        "Então, como a proporção de intervalos que contêm o verdadeiro valor de μ está proxima de 0.95, isso indica que o nível de confiança está sendo atendido corretamente."
      ],
      "metadata": {
        "id": "qhynAAVIMUWz"
      }
    }
  ]
}